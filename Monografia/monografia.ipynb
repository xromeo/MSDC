{
 "cells": [
  {
   "cell_type": "code",
   "execution_count": 10,
   "metadata": {},
   "outputs": [
    {
     "data": {
      "text/plain": [
       "'I hate the people of latin america'"
      ]
     },
     "execution_count": 10,
     "metadata": {},
     "output_type": "execute_result"
    }
   ],
   "source": [
    "from textblob import TextBlob\n",
    "s = \"I hate the people of latino america\"\n",
    "\n",
    "s = str(TextBlob(s).correct())\n",
    "\n",
    "s"
   ]
  },
  {
   "cell_type": "code",
   "execution_count": 15,
   "metadata": {},
   "outputs": [
    {
     "name": "stderr",
     "output_type": "stream",
     "text": [
      "[nltk_data] Downloading package punkt to /home/omar/nltk_data...\n",
      "[nltk_data]   Package punkt is already up-to-date!\n"
     ]
    },
    {
     "data": {
      "text/plain": [
       "WordList(['you', 'are', 'a', 'fucking', 'jew'])"
      ]
     },
     "execution_count": 15,
     "metadata": {},
     "output_type": "execute_result"
    }
   ],
   "source": [
    "import nltk\n",
    "from textblob import TextBlob\n",
    "nltk.download('punkt')\n",
    "s = \"you are a fucking jew\"\n",
    "TextBlob(\"you are a fucking jew\").words\n"
   ]
  },
  {
   "cell_type": "code",
   "execution_count": 16,
   "metadata": {},
   "outputs": [
    {
     "data": {
      "text/plain": [
       "['you', 'are', 'a', 'fucking', 'jew']"
      ]
     },
     "execution_count": 16,
     "metadata": {},
     "output_type": "execute_result"
    }
   ],
   "source": [
    "\n",
    "nltk.word_tokenize(s)"
   ]
  },
  {
   "cell_type": "code",
   "execution_count": 6,
   "metadata": {},
   "outputs": [
    {
     "name": "stdout",
     "output_type": "stream",
     "text": [
      "there are mani fish in pound \n"
     ]
    }
   ],
   "source": [
    "#Import library\n",
    "from nltk.stem import PorterStemmer\n",
    "st = PorterStemmer()\n",
    "s = \"There are many fishes in pound\"\n",
    "words = s.split()\n",
    "result = \"\"\n",
    "for word in words:    \n",
    "    result = result + st.stem(word) + \" \"\n",
    "print(result)"
   ]
  },
  {
   "cell_type": "code",
   "execution_count": 7,
   "metadata": {},
   "outputs": [
    {
     "name": "stdout",
     "output_type": "stream",
     "text": [
      "i hate the religion and the catholic \n"
     ]
    }
   ],
   "source": [
    " \n",
    "from nltk.stem import WordNetLemmatizer  \n",
    "lemmatizer = WordNetLemmatizer()\n",
    "s = \"I hate the religions and the catholicism\"\n",
    "words = s.split()\n",
    "result = \"\"\n",
    "for word in words:    \n",
    "    result = result + st.stem(word) + \" \"\n",
    "print(result)"
   ]
  },
  {
   "cell_type": "code",
   "execution_count": 10,
   "metadata": {},
   "outputs": [
    {
     "name": "stdout",
     "output_type": "stream",
     "text": [
      "{'you': 4, 'subhuman': 3, 'piece': 1, 'of': 0, 'rat': 2}\n",
      "[[1 1 1 1 1]]\n"
     ]
    }
   ],
   "source": [
    "#importing the function\n",
    "from sklearn.feature_extraction.text import CountVectorizer\n",
    "\n",
    "text = [\"You subhuman piece of rat\"]\n",
    "vectorizer = CountVectorizer()\n",
    "vectorizer.fit(text)\n",
    "vector = vectorizer.transform(text)\n",
    "print(vectorizer.vocabulary_)\n",
    "print(vector.toarray())\n",
    "\n"
   ]
  },
  {
   "cell_type": "code",
   "execution_count": 14,
   "metadata": {},
   "outputs": [
    {
     "name": "stdout",
     "output_type": "stream",
     "text": [
      "{'you': 19, 'want': 18, 'to': 16, 'start': 13, 'something': 12, 'little': 8, 'faggot': 5, 'suck': 14, 'your': 20, 'daddy': 2, 'dick': 3, 'sucked': 15, 'dog': 4, 'cock': 1, 'or': 11, 'yours': 21, 'need': 10, 'get': 7, 'makeover': 9, 'fuckin': 6, 'ugly': 17, 'bitch': 0}\n",
      "[1.69314718 1.69314718 1.69314718 1.69314718 1.69314718 1.69314718\n",
      " 1.69314718 1.69314718 1.69314718 1.69314718 1.69314718 1.69314718\n",
      " 1.69314718 1.69314718 1.69314718 1.69314718 1.28768207 1.69314718\n",
      " 1.69314718 1.         1.28768207 1.69314718]\n"
     ]
    }
   ],
   "source": [
    "from sklearn.feature_extraction.text import TfidfVectorizer\n",
    "vectorizer = TfidfVectorizer()\n",
    "vectorizer.fit([\"You want to start something, you little faggot. You suck your daddy's dick.\", \n",
    "\"You sucked your dog's cock or your dog sucked yours?\", \n",
    "\"You need to get a makeover, u r fuckin ugly bitch\"])\n",
    "print(vectorizer.vocabulary_)\n",
    "print(vectorizer.idf_)\n",
    "\n"
   ]
  }
 ],
 "metadata": {
  "kernelspec": {
   "display_name": "Python 3.10.4 64-bit",
   "language": "python",
   "name": "python3"
  },
  "language_info": {
   "codemirror_mode": {
    "name": "ipython",
    "version": 3
   },
   "file_extension": ".py",
   "mimetype": "text/x-python",
   "name": "python",
   "nbconvert_exporter": "python",
   "pygments_lexer": "ipython3",
   "version": "3.10.4"
  },
  "orig_nbformat": 4,
  "vscode": {
   "interpreter": {
    "hash": "916dbcbb3f70747c44a77c7bcd40155683ae19c65e1c03b4aa3499c5328201f1"
   }
  }
 },
 "nbformat": 4,
 "nbformat_minor": 2
}
